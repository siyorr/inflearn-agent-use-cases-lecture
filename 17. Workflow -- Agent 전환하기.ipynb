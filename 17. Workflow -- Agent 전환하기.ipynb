{
 "cells": [
  {
   "cell_type": "code",
   "execution_count": 1,
   "metadata": {},
   "outputs": [
    {
     "data": {
      "text/plain": [
       "True"
      ]
     },
     "execution_count": 1,
     "metadata": {},
     "output_type": "execute_result"
    }
   ],
   "source": [
    "from dotenv import load_dotenv\n",
    "load_dotenv() # OPENAI_API_KEY, PINECONE_API_KEY"
   ]
  },
  {
   "cell_type": "code",
   "execution_count": 2,
   "metadata": {},
   "outputs": [
    {
     "name": "stderr",
     "output_type": "stream",
     "text": [
      "/Users/jasonkang/inflearn/agent-use-cases/.venv/lib/python3.12/site-packages/tqdm/auto.py:21: TqdmWarning: IProgress not found. Please update jupyter and ipywidgets. See https://ipywidgets.readthedocs.io/en/stable/user_install.html\n",
      "  from .autonotebook import tqdm as notebook_tqdm\n"
     ]
    }
   ],
   "source": [
    "from langchain_openai import ChatOpenAI, OpenAIEmbeddings\n",
    "from langchain_pinecone import PineconeVectorStore\n",
    "\n",
    "llm = ChatOpenAI(model=\"gpt-4.1\", temperature=0)\n",
    "small_llm = ChatOpenAI(model=\"gpt-4.1-mini\", temperature=0)\n",
    "embeddings = OpenAIEmbeddings(model=\"text-embedding-3-large\")\n",
    "\n",
    "vector_store = PineconeVectorStore(\n",
    "    index_name=\"inhouse-python-index\",\n",
    "    embedding=embeddings,\n",
    ")\n",
    "retriever = vector_store.as_retriever()"
   ]
  },
  {
   "cell_type": "code",
   "execution_count": 3,
   "metadata": {},
   "outputs": [],
   "source": [
    "from langgraph.graph import StateGraph, MessagesState\n",
    "    \n",
    "graph_builder = StateGraph(MessagesState)"
   ]
  },
  {
   "cell_type": "code",
   "execution_count": 4,
   "metadata": {},
   "outputs": [],
   "source": [
    "from langchain_core.prompts import ChatPromptTemplate \n",
    "from langchain_core.output_parsers import StrOutputParser\n",
    "from langchain_core.tools import tool\n",
    "from langchain_core.documents import Document\n",
    "from pydantic import BaseModel\n",
    "\n",
    "class CheckFaqResponse(BaseModel):\n",
    "    is_in_faq: bool\n",
    "    context: list[Document]\n",
    "\n",
    "@tool\n",
    "def check_faq(question: str) -> CheckFaqResponse:\n",
    "    \"\"\"Check if the question is in the FAQ.\n",
    "    If the question is in the FAQ, return the context of the question.\n",
    "    Otherwise, return an empty list.\n",
    "    \"\"\"\n",
    "    context = retriever.invoke(question, filter={\"source\": \"employee_benefits_and_welfare_faq\"})\n",
    "    check_faq_prompt = ChatPromptTemplate.from_messages([\n",
    "        (\"system\", \"\"\"You are a helpful assistant that checks if the question is in the FAQ. \n",
    "If the question is in the FAQ, return 'Yes'. Otherwise, return 'No'.\"\"\"),\n",
    "        (\"user\", \"Question: {question}\\nContext: {context}\"),\n",
    "    ])\n",
    "    check_faq_chain = check_faq_prompt | llm | StrOutputParser()\n",
    "    is_in_faq = check_faq_chain.invoke({\"question\": question, \"context\": context})\n",
    "    return {\"is_in_faq\": is_in_faq == \"Yes\", \"context\": context if is_in_faq == \"Yes\" else []}"
   ]
  },
  {
   "cell_type": "code",
   "execution_count": 5,
   "metadata": {},
   "outputs": [],
   "source": [
    "from langchain_core.tools import tool\n",
    "from langchain_core.prompts import ChatPromptTemplate \n",
    "from langchain_core.output_parsers import StrOutputParser\n",
    "\n",
    "@tool\n",
    "def get_document_name(question: str) -> str:\n",
    "    \"\"\"Get the document name based on the question.\"\"\"\n",
    "    determine_document_prompt = ChatPromptTemplate.from_messages(\n",
    "    [\n",
    "        (\"system\", \"\"\"You are a helpful assistant that determines the most relevant document name based on the user's question. \n",
    "Choose from the following document names:\n",
    "- delegation_of_authority\n",
    "- employee_benefits_and_welfare_faq\n",
    "- employee_benefits_and_welfare_guide\n",
    "- employee_handbook_and_hr_policy\n",
    "- expense_management_guide\n",
    "- it_support_guide\n",
    "- legal_and_compliance_policy\n",
    "\n",
    "Return ONLY the document name (e.g., 'it_support_guide').\n",
    "\n",
    "Examples:\n",
    "- If the question is about who can approve expenses, return 'delegation_of_authority' or 'expense_management_guide' as appropriate.\n",
    "- If the question is about employee benefits, return 'employee_benefits_and_welfare_guide'.\n",
    "- If the question is about HR policies or the employee handbook, return 'employee_handbook_and_hr_policy'.\n",
    "- If the question is about IT support or technical issues, return 'it_support_guide'.\n",
    "- If the question is about legal or compliance matters, return 'legal_and_compliance_policy'.\n",
    "- If the question is a frequently asked question about benefits, return 'employee_benefits_and_welfare_faq'.\n",
    "\"\"\"),\n",
    "        (\"user\", \"Question: {question}\"),\n",
    "    ]\n",
    ")\n",
    "    determine_document_chain = determine_document_prompt | llm | StrOutputParser()\n",
    "    document_name = determine_document_chain.invoke({\"question\": question})\n",
    "    return document_name"
   ]
  },
  {
   "cell_type": "code",
   "execution_count": 6,
   "metadata": {},
   "outputs": [],
   "source": [
    "from typing import List\n",
    "from langchain_core.tools.retriever import create_retriever_tool\n",
    "\n",
    "@tool\n",
    "def retriever_tool(question:str, document_name: str) -> List[Document]:\n",
    "    \"\"\"Retrieve the document based on the question and document name.\"\"\"\n",
    "    context = retriever.invoke(question, filter={\"source\": document_name})\n",
    "    return context\n",
    "\n",
    "# retriever_tool = create_retriever_tool(\n",
    "#     retriever, \n",
    "#     \"company_document_retriever\",\n",
    "#     \"\"\"사내 문서 모음에서 정보를 찾아주는 도구입니다. 문서 이름을 기반으로 source에 필터링을 한 후에, page_content를 반환합니다.\"\"\"\n",
    "# )"
   ]
  },
  {
   "cell_type": "code",
   "execution_count": 7,
   "metadata": {},
   "outputs": [],
   "source": [
    "from langgraph.prebuilt import create_react_agent\n",
    "\n",
    "agent = create_react_agent(\n",
    "    model=\"openai:gpt-4.1\",\n",
    "    tools=[retriever_tool, check_faq, get_document_name],\n",
    "    prompt=\"Use the tools provided to you to answer the user's question\",\n",
    ")"
   ]
  },
  {
   "cell_type": "code",
   "execution_count": 8,
   "metadata": {},
   "outputs": [
    {
     "data": {
      "image/png": "[encoded data removed]",
      "text/plain": [
       "<langgraph.graph.state.CompiledStateGraph object at 0x123023fb0>"
      ]
     },
     "execution_count": 8,
     "metadata": {},
     "output_type": "execute_result"
    }
   ],
   "source": [
    "agent"
   ]
  },
  {
   "cell_type": "code",
   "execution_count": 9,
   "metadata": {},
   "outputs": [
    {
     "name": "stdout",
     "output_type": "stream",
     "text": [
      "================================\u001b[1m Human Message \u001b[0m=================================\n",
      "\n",
      "사내 네트워크 담당자는 누구인가요?\n",
      "==================================\u001b[1m Ai Message \u001b[0m==================================\n",
      "Tool Calls:\n",
      "  check_faq (call_jlaSIQXQgobIPPgpU6s3Zwym)\n",
      " Call ID: call_jlaSIQXQgobIPPgpU6s3Zwym\n",
      "  Args:\n",
      "    question: 사내 네트워크 담당자는 누구인가요?\n",
      "=================================\u001b[1m Tool Message \u001b[0m=================================\n",
      "Name: check_faq\n",
      "\n",
      "{\"is_in_faq\": false, \"context\": []}\n",
      "==================================\u001b[1m Ai Message \u001b[0m==================================\n",
      "Tool Calls:\n",
      "  get_document_name (call_LLZybxRGCV0cGHTdS2Eghc1k)\n",
      " Call ID: call_LLZybxRGCV0cGHTdS2Eghc1k\n",
      "  Args:\n",
      "    question: 사내 네트워크 담당자는 누구인가요?\n",
      "=================================\u001b[1m Tool Message \u001b[0m=================================\n",
      "Name: get_document_name\n",
      "\n",
      "it_support_guide\n",
      "==================================\u001b[1m Ai Message \u001b[0m==================================\n",
      "Tool Calls:\n",
      "  retriever_tool (call_atGNtmTOkA3ymaR8tEFtwIwv)\n",
      " Call ID: call_atGNtmTOkA3ymaR8tEFtwIwv\n",
      "  Args:\n",
      "    question: 사내 네트워크 담당자는 누구입니까?\n",
      "    document_name: it_support_guide\n",
      "=================================\u001b[1m Tool Message \u001b[0m=================================\n",
      "Name: retriever_tool\n",
      "\n",
      "[Document(id='c4fc05d7-76c2-48e0-b51f-2c0aa8405ba3', metadata={'chapter': '제 1 장 IT 지원 기본 정책', 'section': '제 3 조 (IT 지원 담당자)', 'source': 'it_support_guide', 'title': 'IT 지원 가이드'}, page_content='- **네트워크 지원**\\n- 담당자: 김영수 (IT 네트워크 관리자)\\n- 이메일: kimys@company.com\\n- 전화번호: 02-1234-5680\\n- **계정관리 및 보안**\\n- 담당자: 이민정 (보안 관리자)\\n- 이메일: leemj@company.com\\n- 전화번호: 02-1234-5681\\n- **소프트웨어 및 시스템 유지보수**\\n- 담당자: 박상호 (IT 시스템 관리자)\\n- 이메일: parksh@company.com\\n- 전화번호: 02-1234-5682  \\n---'), Document(id='a413c123-ba06-4c91-bec2-3bcd96e8697e', metadata={'chapter': '제 3장 네트워크 및 VPN 접속', 'section': '제 6조 (사내 네트워크 접속)', 'source': 'it_support_guide', 'title': 'IT 지원 가이드'}, page_content='- 모든 사내 네트워크 접속은 인증된 사용자 계정으로만 가능하다.\\n- 외부 접속 시 VPN 사용이 필수이다.\\n- VPN 계정은 IT 지원팀을 통해 신청할 수 있다.'), Document(id='73334394-4602-4b4d-b57d-d4e16f376cc9', metadata={'chapter': '제 6장 데이터 보안', 'section': '제 12조 (데이터 보호)', 'source': 'it_support_guide', 'title': 'IT 지원 가이드'}, page_content='- 모든 회사 데이터는 사내 서버 또는 클라우드에 안전하게 저장한다.\\n- 민감한 데이터는 암호화하여 저장한다.\\n- 기밀 자료는 사내 네트워크에서만 접근 가능하도록 설정한다.'), Document(id='73299f9a-059d-4036-9737-77afb75489df', metadata={'chapter': '제 3장 네트워크 및 VPN 접속', 'section': '제 7조 (VPN 접속 오류 해결)', 'source': 'it_support_guide', 'title': 'IT 지원 가이드'}, page_content='- VPN 접속 불가 시 네트워크 상태 확인\\n- VPN 클라이언트 최신 버전 설치 확인\\n- 오류 지속 시 IT 지원팀에 문의')]\n",
      "==================================\u001b[1m Ai Message \u001b[0m==================================\n",
      "\n",
      "사내 네트워크 담당자는 다음과 같습니다.\n",
      "\n",
      "- 담당자: 김영수 (IT 네트워크 관리자)\n",
      "- 이메일: kimys@company.com\n",
      "- 전화번호: 02-1234-5680\n",
      "\n",
      "네트워크 관련 문의나 지원이 필요하실 경우 위 연락처로 문의해주시기 바랍니다.\n"
     ]
    }
   ],
   "source": [
    "from langchain_core.messages import HumanMessage\n",
    "\n",
    "for chunk in agent.stream({\"messages\": [HumanMessage(content=\"사내 네트워크 담당자는 누구인가요?\")]}, stream_mode=\"values\"):\n",
    "    chunk['messages'][-1].pretty_print()"
   ]
  },
  {
   "cell_type": "code",
   "execution_count": 11,
   "metadata": {},
   "outputs": [
    {
     "name": "stdout",
     "output_type": "stream",
     "text": [
      "================================\u001b[1m Human Message \u001b[0m=================================\n",
      "\n",
      "출산휴가는 얼마나 보장되나요?\n",
      "==================================\u001b[1m Ai Message \u001b[0m==================================\n",
      "Tool Calls:\n",
      "  check_faq (call_eh7snAnl7v84U58imdic9KY1)\n",
      " Call ID: call_eh7snAnl7v84U58imdic9KY1\n",
      "  Args:\n",
      "    question: 출산휴가는 얼마나 보장되나요?\n",
      "=================================\u001b[1m Tool Message \u001b[0m=================================\n",
      "Name: check_faq\n",
      "\n",
      "{'is_in_faq': True, 'context': [Document(id='824b9c66-269f-409d-b59f-9fcd389d75fb', metadata={'chapter': '2. 출산 및 육아 휴가 관련', 'section': 'Q4: 출산 휴가는 언제부터 사용할 수 있나요?', 'source': 'employee_benefits_and_welfare_faq', 'title': '직원 복리후생 및 복지 FAQ'}, page_content='- A: 출산 예정일 전후로 자유롭게 사용할 수 있으며, 최대 20일 유급으로 제공됩니다.'), Document(id='1036ec07-8314-47ef-97f1-2b74ef2cfd65', metadata={'chapter': '3. 경조 휴가 및 지원', 'section': 'Q6: 경조 휴가는 어떤 경우에 사용할 수 있나요?', 'source': 'employee_benefits_and_welfare_faq', 'title': '직원 복리후생 및 복지 FAQ'}, page_content='- A: 본인 결혼, 자녀 출생, 부모/배우자 사망 등 경조사 사유에 따라 휴가가 부여됩니다.'), Document(id='f0b7c834-5d42-42b5-8f47-3acb418c29ac', metadata={'chapter': '2. 출산 및 육아 휴가 관련', 'section': 'Q5: 육아 휴가는 누구에게 적용되나요?', 'source': 'employee_benefits_and_welfare_faq', 'title': '직원 복리후생 및 복지 FAQ'}, page_content='- A: 모든 직원이 신청할 수 있으며, 최대 1년까지 사용할 수 있으며, 첫 3개월은 급여의 50%가 지급됩니다.  \\n---'), Document(id='1bd85b06-53b0-4cee-991e-95fd2680c731', metadata={'chapter': '3. 경조 휴가 및 지원', 'section': '7. 문의 및 기타', 'source': 'employee_benefits_and_welfare_faq', 'title': '직원 복리후생 및 복지 FAQ'}, page_content='**Q14: 복리후생 관련 문의는 어디로 하면 되나요?**\\n- A: HR 담당자 김지현 (이메일: kimjh@company.com, 전화번호: 02-1234-5678)에게 문의 가능합니다.')]}\n",
      "==================================\u001b[1m Ai Message \u001b[0m==================================\n",
      "\n",
      "출산휴가는 출산 예정일 전후로 자유롭게 사용할 수 있으며, 최대 20일 유급으로 제공됩니다. 추가 문의 사항이 있으시면 HR 담당자(이메일: kimjh@company.com, 전화번호: 02-1234-5678)에게 연락하실 수 있습니다.\n"
     ]
    }
   ],
   "source": [
    "for chunk in agent.stream({\"messages\": [HumanMessage(content=\"출산휴가는 얼마나 보장되나요?\")]}, stream_mode=\"values\"):\n",
    "    chunk['messages'][-1].pretty_print()"
   ]
  },
  {
   "cell_type": "code",
   "execution_count": null,
   "metadata": {},
   "outputs": [],
   "source": []
  }
 ],
 "metadata": {
  "kernelspec": {
   "display_name": ".venv",
   "language": "python",
   "name": "python3"
  },
  "language_info": {
   "codemirror_mode": {
    "name": "ipython",
    "version": 3
   },
   "file_extension": ".py",
   "mimetype": "text/x-python",
   "name": "python",
   "nbconvert_exporter": "python",
   "pygments_lexer": "ipython3",
   "version": "3.12.9"
  }
 },
 "nbformat": 4,
 "nbformat_minor": 2
}
